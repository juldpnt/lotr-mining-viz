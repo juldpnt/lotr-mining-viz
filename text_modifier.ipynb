{
 "cells": [
  {
   "cell_type": "code",
   "execution_count": 3,
   "id": "99815661-2df1-474f-ae51-077085c2af29",
   "metadata": {},
   "outputs": [],
   "source": [
    "import re\n",
    "\n",
    "new_chapter = \"\"\n",
    "books = {\"Hobbit\" : \"hobbit.txt\", \n",
    "         \"LOTR 1\" : \"lotr_1.txt\", \"LOTR 2\" : \"lotr_2.txt\", \"LOTR 3\" : \"lotr_3.txt\"}            \n",
    "end_path = books[\"LOTR 3\"]\n",
    "# Open the file in read mode\n",
    "with open(\"data/books/\" + end_path, 'r') as file:\n",
    "  # Read the contents of the file into a string\n",
    "  contents = file.read()\n",
    "\n",
    "# Use the re.sub function to replace all underscores with nothing\n",
    "contents = re.sub('_', '', contents)\n",
    "\n",
    "# Open the file in write mode\n",
    "with open(\"data/books/\" + end_path, 'w') as file:\n",
    "  # Write the modified contents back to the file\n",
    "  file.write(contents)"
   ]
  }
 ],
 "metadata": {
  "kernelspec": {
   "display_name": "Python 3 (ipykernel)",
   "language": "python",
   "name": "python3"
  },
  "language_info": {
   "codemirror_mode": {
    "name": "ipython",
    "version": 3
   },
   "file_extension": ".py",
   "mimetype": "text/x-python",
   "name": "python",
   "nbconvert_exporter": "python",
   "pygments_lexer": "ipython3",
   "version": "3.9.15"
  }
 },
 "nbformat": 4,
 "nbformat_minor": 5
}
