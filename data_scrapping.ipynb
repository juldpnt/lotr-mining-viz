{
 "cells": [
  {
   "cell_type": "code",
   "execution_count": null,
   "id": "419479dc-061f-490f-8b18-f81d08bd7a80",
   "metadata": {},
   "outputs": [],
   "source": [
    "# inspired by https://arxiv.org/pdf/1907.02704.pdf and thu vu data analysis\n",
    "# TODO: geneaological "
   ]
  },
  {
   "cell_type": "code",
   "execution_count": 1,
   "id": "ae0ff903-a76a-404f-a3a5-c739401db622",
   "metadata": {},
   "outputs": [
    {
     "name": "stdout",
     "output_type": "stream",
     "text": [
      "package loaded\n"
     ]
    }
   ],
   "source": [
    "import pandas as pd\n",
    "import time\n",
    "import matplotlib\n",
    "import matplotlib.pyplot as plt\n",
    "import seaborn as sns\n",
    "\n",
    "from selenium import webdriver\n",
    "from webdriver_manager.firefox import GeckoDriverManager\n",
    "\n",
    "from selenium.webdriver.firefox.options import Options #to tweak options\n",
    "from selenium.common.exceptions import NoSuchElementException #to raise error\n",
    "from selenium.webdriver.common.by import By #to use find_element\n",
    "\n",
    "import unidecode\n",
    "import networkx as nx\n",
    "\n",
    "print('package loaded')\n",
    "\n",
    "website_choices = [{\"name\": \"https://lotr.fandom.com/wiki/Category:\", \n",
    "                   \"url\" : [\"The_Hobbit_Characters\", \"The_Silmarillion_characters\", \"Characters_in_The_Children_of_H%C3%BArin\"]},\n",
    "                   {\"name\": \"https://tolkiengateway.net/wiki/Category:\", \n",
    "                    \"url\" : [\"Characters_in_The_Hobbit\", \"Characters_in_The_Lord_of_the_Rings\"]}\n",
    "                  ]\n",
    "choice = website_choices[1]\n",
    "path = choice[\"url\"][0]\n"
   ]
  },
  {
   "cell_type": "markdown",
   "id": "68aee74a-d48a-4992-af9a-fd17af6755d1",
   "metadata": {
    "tags": []
   },
   "source": [
    "## Load Web Page "
   ]
  },
  {
   "cell_type": "code",
   "execution_count": 3,
   "id": "41f0fb4e-3c4b-45a3-88e4-3816f67b47db",
   "metadata": {},
   "outputs": [
    {
     "name": "stderr",
     "output_type": "stream",
     "text": [
      "[WDM] - Downloading: 19.0kB [00:00, ?B/s]                                                                              \n",
      "[WDM] - Downloading: 19.0kB [00:00, ?B/s]                                                                              \n",
      "[WDM] - Downloading: 100%|████████████████████████████████████████████████████████| 1.58M/1.58M [00:00<00:00, 12.0MB/s]\n"
     ]
    },
    {
     "name": "stdout",
     "output_type": "stream",
     "text": [
      "web loaded\n"
     ]
    }
   ],
   "source": [
    "# to disable GUI\n",
    "firefox_options = Options()\n",
    "firefox_profile = webdriver.FirefoxProfile()\n",
    "\n",
    "firefox_options.add_argument(\"--headless\") # Ensure GUI is off\n",
    "#firefox_options.add_argument(\"--no-sandbox\") # if i understand well, make it faster but less safe\n",
    "\n",
    "# to disable image loading\n",
    "firefox_profile = webdriver.FirefoxProfile()\n",
    "firefox_profile.set_preference('permissions.default.image', 2)\n",
    "firefox_profile.set_preference('dom.ipc.plugins.enabled.libflashplayer.so', 'false')\n",
    "\n",
    "# to load the web browser\n",
    "driver = webdriver.Firefox(executable_path=GeckoDriverManager().install(), options=firefox_options, firefox_profile=firefox_profile)\n",
    "print('web loaded')"
   ]
  },
  {
   "cell_type": "code",
   "execution_count": null,
   "id": "5b671f8b-fb70-4296-b46e-8d257acf7862",
   "metadata": {},
   "outputs": [],
   "source": [
    "# to quit the driver\n",
    "driver.quit()\n",
    "print('driver quited')"
   ]
  },
  {
   "cell_type": "code",
   "execution_count": 4,
   "id": "36ca7793-7a43-438a-ba7a-cae3c5297e14",
   "metadata": {},
   "outputs": [
    {
     "name": "stdout",
     "output_type": "stream",
     "text": [
      "no cookie button, or not in french\n"
     ]
    }
   ],
   "source": [
    "page_url = choice[\"name\"] + path\n",
    "driver.get(page_url)\n",
    "\n",
    "# Accept cookies\n",
    "# time.sleep(3)\n",
    "\n",
    "try:\n",
    "    driver.find_element(By.XPATH, '//div[text()=\"ACCEPTER\"]').click()\n",
    "except NoSuchElementException:\n",
    "    print('no cookie button, or not in french')"
   ]
  },
  {
   "cell_type": "markdown",
   "id": "3fc4a14d-c0e3-429e-97a9-83b369804cf1",
   "metadata": {
    "jp-MarkdownHeadingCollapsed": true,
    "tags": []
   },
   "source": [
    "## Data mining lotr.fandom"
   ]
  },
  {
   "cell_type": "code",
   "execution_count": null,
   "id": "65e17d20-a03d-48b3-890f-e451af297d0e",
   "metadata": {},
   "outputs": [],
   "source": [
    "# Find the different characters in the hobbit with the first website\n",
    "characters_listed_ref = driver.find_elements(by=By.CLASS_NAME, value=\"category-page__member-link\")\n",
    "characters_listed = [(i.text, i.get_attribute('href')) for i in characters_listed_ref]"
   ]
  },
  {
   "cell_type": "code",
   "execution_count": null,
   "id": "626f4d8f-e57f-4b60-9876-ca319604ab4f",
   "metadata": {},
   "outputs": [],
   "source": [
    "person_dict = {}\n",
    "characters_list = []\n",
    "iterator = 0\n",
    "for person in characters_listed:\n",
    "    person_dict = {} #assign to {} to change the pointer\n",
    "    person_features = [\"race\", \"gender\"]\n",
    "    person_url = person[1]\n",
    "    person_name = person[0]\n",
    "\n",
    "    person_dict['names'] = person_name\n",
    "    person_dict['link'] = person_url\n",
    "    # goes to the character webpage to mine the data\n",
    "    driver.get(person_url)\n",
    "    \n",
    "    # find the element of wikipedia\n",
    "    for feature in person_features:\n",
    "        try:\n",
    "            #get the div with data-source Race\n",
    "            text = driver.find_element(By.XPATH, '//div[@data-source =\\\"' + feature + '\"]/descendant::div').text \n",
    "            if feature == \"othernames\":\n",
    "                person_dict['names'] += \", \" + text\n",
    "            else:\n",
    "                person_dict[feature] = text\n",
    "        except NoSuchElementException:\n",
    "            person_dict[feature] = 'NaN'\n",
    "            \n",
    "    if not('Category' in person_dict['names']):\n",
    "        characters_list.append(person_dict)\n",
    "        \n",
    "    progress = int(iterator/len(characters_listed) * 100)\n",
    "    print(progress, \" % progress\")\n",
    "    iterator += 1\n",
    "characters_df = pd.DataFrame(characters_list)\n",
    "print(\"100 % progress\")"
   ]
  },
  {
   "cell_type": "markdown",
   "id": "65b3677a-0d10-4aae-a0cf-be51d9bf016f",
   "metadata": {
    "tags": []
   },
   "source": [
    "## Data mining tolkien gateway"
   ]
  },
  {
   "cell_type": "code",
   "execution_count": 5,
   "id": "3163ccd8-4840-482b-87fd-dddc18251bf5",
   "metadata": {},
   "outputs": [],
   "source": [
    "characters_listed_ref = driver.find_elements(By.CSS_SELECTOR, 'div.mw-category-group > ul > li > a')\n",
    "characters_listed = [(i.text, i.get_attribute('href')) for i in characters_listed_ref]\n"
   ]
  },
  {
   "cell_type": "code",
   "execution_count": 6,
   "id": "d0d3c01c-05f7-4272-8ab7-1c34b2392107",
   "metadata": {},
   "outputs": [
    {
     "name": "stdout",
     "output_type": "stream",
     "text": [
      "0  % progress\n",
      "2  % progress\n",
      "4  % progress\n",
      "7  % progress\n",
      "9  % progress\n",
      "12  % progress\n",
      "14  % progress\n",
      "17  % progress\n",
      "19  % progress\n",
      "21  % progress\n",
      "24  % progress\n",
      "26  % progress\n",
      "29  % progress\n",
      "31  % progress\n",
      "34  % progress\n",
      "36  % progress\n",
      "39  % progress\n",
      "41  % progress\n",
      "43  % progress\n",
      "46  % progress\n",
      "48  % progress\n",
      "51  % progress\n",
      "53  % progress\n",
      "56  % progress\n",
      "58  % progress\n",
      "60  % progress\n",
      "63  % progress\n",
      "65  % progress\n",
      "68  % progress\n",
      "70  % progress\n",
      "73  % progress\n",
      "75  % progress\n",
      "78  % progress\n",
      "80  % progress\n",
      "82  % progress\n",
      "85  % progress\n",
      "87  % progress\n",
      "90  % progress\n",
      "92  % progress\n",
      "95  % progress\n",
      "97  % progress\n",
      "100 % progress\n"
     ]
    }
   ],
   "source": [
    "person_dict = {}\n",
    "characters_list = []\n",
    "iterator = 0\n",
    "\n",
    "for person in characters_listed:\n",
    "    person_dict = {} #assign to {} to change the pointer\n",
    "    person_url, person_name = person[1], person[0]\n",
    "    person_dict['names'], person_dict['link'] = person_name, person_url\n",
    "    \n",
    "    # goes to the character webpage to mine the data\n",
    "    driver.get(person_url)\n",
    "    \n",
    "    # get the race of the person\n",
    "    try:\n",
    "        person_dict['race'] = driver.find_element(By.CSS_SELECTOR, \"tr:nth-child(2) > td > a\").text\n",
    "    except NoSuchElementException:\n",
    "        person_dict['race'] = None\n",
    "\n",
    "    #get the other features that are wanted\n",
    "    person_add_features = [\"other names\",\"gender\", \"birth\", \"death\", \"affiliation\", \"rule\"]\n",
    "    for feature in person_add_features:\n",
    "        try:\n",
    "            #get the right td, using the td before that contains feature's name\n",
    "            text = driver.find_element(By.XPATH, \"//td[contains(.,'\" + feature.capitalize() + \"')]/following-sibling::td\").text\n",
    "            person_dict[feature] = text\n",
    "        except NoSuchElementException:\n",
    "            person_dict[feature] = None\n",
    "    if not('Category' in person_name):\n",
    "        characters_list.append(person_dict)\n",
    "    \n",
    "    progress = int(iterator/len(characters_listed) * 100)\n",
    "    print(progress, \" % progress\")\n",
    "    iterator += 1\n",
    "\n",
    "characters_df = pd.DataFrame(characters_list)\n",
    "characters_df.to_json(\"data/mining/\" + path +\".json\")\n",
    "\n",
    "print(\"100 % progress\")"
   ]
  },
  {
   "cell_type": "code",
   "execution_count": 78,
   "id": "787fb574-e58b-4692-81ff-14e5c57ebe3c",
   "metadata": {},
   "outputs": [
    {
     "data": {
      "text/html": [
       "<div>\n",
       "<style scoped>\n",
       "    .dataframe tbody tr th:only-of-type {\n",
       "        vertical-align: middle;\n",
       "    }\n",
       "\n",
       "    .dataframe tbody tr th {\n",
       "        vertical-align: top;\n",
       "    }\n",
       "\n",
       "    .dataframe thead th {\n",
       "        text-align: right;\n",
       "    }\n",
       "</style>\n",
       "<table border=\"1\" class=\"dataframe\">\n",
       "  <thead>\n",
       "    <tr style=\"text-align: right;\">\n",
       "      <th></th>\n",
       "      <th>names</th>\n",
       "      <th>link</th>\n",
       "      <th>race</th>\n",
       "      <th>other names</th>\n",
       "      <th>gender</th>\n",
       "      <th>birth</th>\n",
       "      <th>death</th>\n",
       "      <th>affiliation</th>\n",
       "      <th>rule</th>\n",
       "    </tr>\n",
       "  </thead>\n",
       "  <tbody>\n",
       "    <tr>\n",
       "      <th>0</th>\n",
       "      <td>Anborn</td>\n",
       "      <td>https://tolkiengateway.net/wiki/Anborn</td>\n",
       "      <td>Gondorian</td>\n",
       "      <td>None</td>\n",
       "      <td>Male</td>\n",
       "      <td>Late Third Age</td>\n",
       "      <td>None</td>\n",
       "      <td>None</td>\n",
       "      <td>None</td>\n",
       "    </tr>\n",
       "    <tr>\n",
       "      <th>1</th>\n",
       "      <td>Angbor</td>\n",
       "      <td>https://tolkiengateway.net/wiki/Angbor</td>\n",
       "      <td>Gondorian</td>\n",
       "      <td>\"the Fearless\"</td>\n",
       "      <td>Male</td>\n",
       "      <td>Late Third Age</td>\n",
       "      <td>None</td>\n",
       "      <td>None</td>\n",
       "      <td>None</td>\n",
       "    </tr>\n",
       "    <tr>\n",
       "      <th>2</th>\n",
       "      <td>Aragorn</td>\n",
       "      <td>https://tolkiengateway.net/wiki/Aragorn</td>\n",
       "      <td>Arnorian</td>\n",
       "      <td>Aragorn II, Elessar, Strider, Thorongil, The D...</td>\n",
       "      <td>Male</td>\n",
       "      <td>1 March T.A. 2931\\nEriador</td>\n",
       "      <td>1 March Fo.A. 120[3] (aged 210)\\nGondor</td>\n",
       "      <td>Fellowship of the Ring</td>\n",
       "      <td>T.A. 2933 - 3019 (Chieftain)\\nT.A. 3019 - Fo.A...</td>\n",
       "    </tr>\n",
       "  </tbody>\n",
       "</table>\n",
       "</div>"
      ],
      "text/plain": [
       "     names                                     link       race  \\\n",
       "0   Anborn   https://tolkiengateway.net/wiki/Anborn  Gondorian   \n",
       "1   Angbor   https://tolkiengateway.net/wiki/Angbor  Gondorian   \n",
       "2  Aragorn  https://tolkiengateway.net/wiki/Aragorn   Arnorian   \n",
       "\n",
       "                                         other names gender  \\\n",
       "0                                               None   Male   \n",
       "1                                     \"the Fearless\"   Male   \n",
       "2  Aragorn II, Elessar, Strider, Thorongil, The D...   Male   \n",
       "\n",
       "                        birth                                    death  \\\n",
       "0              Late Third Age                                     None   \n",
       "1              Late Third Age                                     None   \n",
       "2  1 March T.A. 2931\\nEriador  1 March Fo.A. 120[3] (aged 210)\\nGondor   \n",
       "\n",
       "              affiliation                                               rule  \n",
       "0                    None                                               None  \n",
       "1                    None                                               None  \n",
       "2  Fellowship of the Ring  T.A. 2933 - 3019 (Chieftain)\\nT.A. 3019 - Fo.A...  "
      ]
     },
     "execution_count": 78,
     "metadata": {},
     "output_type": "execute_result"
    }
   ],
   "source": [
    "characters_df.head(100)"
   ]
  },
  {
   "cell_type": "markdown",
   "id": "27834c97-1dfb-4190-b9dc-027251879575",
   "metadata": {
    "tags": []
   },
   "source": [
    "## Data viz from data mining"
   ]
  },
  {
   "cell_type": "code",
   "execution_count": 2,
   "id": "441ef39e-e0ee-4fa5-abf0-aac99f8cb294",
   "metadata": {},
   "outputs": [
    {
     "name": "stdout",
     "output_type": "stream",
     "text": [
      "Heren Istarion (Wizards)\n",
      "White Council\n",
      "Thorin and Company\n",
      "Fellowship of the Ring\n"
     ]
    }
   ],
   "source": [
    "characters_df = pd.read_json(\"data/mining/\" + path +\".json\")\n",
    "characters_df['race'] = characters_df['race'].apply(lambda x : 'Half-elves' if 'Half-elves' in str(x) else x)\n",
    "characters_df['race'] = characters_df['race'].apply(lambda x : 'Ainur' if 'Ainur' in str(x) else x)\n",
    "characters_df = characters_df.dropna(subset=['affiliation'])\n",
    "\n",
    "print(characters_df.loc[characters_df[\"names\"] == \"Gandalf\"][\"affiliation\"].values[0])\n",
    "characters_df = characters_df.groupby(\"affiliation\").filter(lambda x: len(x) > 1)"
   ]
  },
  {
   "cell_type": "code",
   "execution_count": 198,
   "id": "fc593b21-1ff4-4110-9b62-c5cd25f4ef09",
   "metadata": {},
   "outputs": [
    {
     "data": {
      "text/html": [
       "<div>\n",
       "<style scoped>\n",
       "    .dataframe tbody tr th:only-of-type {\n",
       "        vertical-align: middle;\n",
       "    }\n",
       "\n",
       "    .dataframe tbody tr th {\n",
       "        vertical-align: top;\n",
       "    }\n",
       "\n",
       "    .dataframe thead th {\n",
       "        text-align: right;\n",
       "    }\n",
       "</style>\n",
       "<table border=\"1\" class=\"dataframe\">\n",
       "  <thead>\n",
       "    <tr style=\"text-align: right;\">\n",
       "      <th></th>\n",
       "      <th>names</th>\n",
       "      <th>link</th>\n",
       "      <th>race</th>\n",
       "      <th>other names</th>\n",
       "      <th>gender</th>\n",
       "      <th>birth</th>\n",
       "      <th>death</th>\n",
       "      <th>affiliation</th>\n",
       "      <th>rule</th>\n",
       "    </tr>\n",
       "  </thead>\n",
       "  <tbody>\n",
       "    <tr>\n",
       "      <th>102</th>\n",
       "      <td>Mrs Maggot</td>\n",
       "      <td>https://tolkiengateway.net/wiki/Mrs_Maggot</td>\n",
       "      <td>Hobbit</td>\n",
       "      <td>None</td>\n",
       "      <td>Female</td>\n",
       "      <td>None</td>\n",
       "      <td>None</td>\n",
       "      <td>None</td>\n",
       "      <td>None</td>\n",
       "    </tr>\n",
       "  </tbody>\n",
       "</table>\n",
       "</div>"
      ],
      "text/plain": [
       "          names                                        link    race  \\\n",
       "102  Mrs Maggot  https://tolkiengateway.net/wiki/Mrs_Maggot  Hobbit   \n",
       "\n",
       "    other names  gender birth death affiliation  rule  \n",
       "102        None  Female  None  None        None  None  "
      ]
     },
     "execution_count": 198,
     "metadata": {},
     "output_type": "execute_result"
    }
   ],
   "source": [
    "characters_df = pd.read_json(\"data/mining/\" + path +\".json\")\n",
    "characters_df.loc[characters_df[\"names\"] == \"Mrs Maggot\"]"
   ]
  },
  {
   "cell_type": "code",
   "execution_count": null,
   "id": "52cf3f44-7fcc-4b91-9237-f7d758f7b731",
   "metadata": {},
   "outputs": [],
   "source": []
  },
  {
   "cell_type": "code",
   "execution_count": 171,
   "id": "951ba10f-f63e-42ec-a393-48bf21ffc97f",
   "metadata": {},
   "outputs": [
    {
     "data": {
      "image/png": "[encoded data removed]",
      "text/plain": [
       "<Figure size 1000x600 with 1 Axes>"
      ]
     },
     "metadata": {},
     "output_type": "display_data"
    }
   ],
   "source": [
    "plt.figure(figsize=(10,6))\n",
    "sns.countplot(y = characters_df['affiliation'] )\n",
    "plt.show()\n"
   ]
  },
  {
   "cell_type": "code",
   "execution_count": 3,
   "id": "8d57f87c-a0db-4264-8a32-de4608526a38",
   "metadata": {},
   "outputs": [
    {
     "ename": "TypeError",
     "evalue": "Cannot perform 'rand_' with a dtyped [object] array and scalar of type [bool]",
     "output_type": "error",
     "traceback": [
      "\u001b[1;31m---------------------------------------------------------------------------\u001b[0m",
      "\u001b[1;31mTypeError\u001b[0m                                 Traceback (most recent call last)",
      "File \u001b[1;32m~\\miniconda3\\envs\\stats\\lib\\site-packages\\pandas\\core\\ops\\array_ops.py:305\u001b[0m, in \u001b[0;36mna_logical_op\u001b[1;34m(x, y, op)\u001b[0m\n\u001b[0;32m    296\u001b[0m \u001b[38;5;28;01mtry\u001b[39;00m:\n\u001b[0;32m    297\u001b[0m     \u001b[38;5;66;03m# For exposition, write:\u001b[39;00m\n\u001b[0;32m    298\u001b[0m     \u001b[38;5;66;03m#  yarr = isinstance(y, np.ndarray)\u001b[39;00m\n\u001b[1;32m   (...)\u001b[0m\n\u001b[0;32m    303\u001b[0m     \u001b[38;5;66;03m# Then Cases where this goes through without raising include:\u001b[39;00m\n\u001b[0;32m    304\u001b[0m     \u001b[38;5;66;03m#  (xint or xbool) and (yint or bool)\u001b[39;00m\n\u001b[1;32m--> 305\u001b[0m     result \u001b[38;5;241m=\u001b[39m \u001b[43mop\u001b[49m\u001b[43m(\u001b[49m\u001b[43mx\u001b[49m\u001b[43m,\u001b[49m\u001b[43m \u001b[49m\u001b[43my\u001b[49m\u001b[43m)\u001b[49m\n\u001b[0;32m    306\u001b[0m \u001b[38;5;28;01mexcept\u001b[39;00m \u001b[38;5;167;01mTypeError\u001b[39;00m:\n",
      "File \u001b[1;32m~\\miniconda3\\envs\\stats\\lib\\site-packages\\pandas\\core\\roperator.py:54\u001b[0m, in \u001b[0;36mrand_\u001b[1;34m(left, right)\u001b[0m\n\u001b[0;32m     53\u001b[0m \u001b[38;5;28;01mdef\u001b[39;00m \u001b[38;5;21mrand_\u001b[39m(left, right):\n\u001b[1;32m---> 54\u001b[0m     \u001b[38;5;28;01mreturn\u001b[39;00m \u001b[43moperator\u001b[49m\u001b[38;5;241;43m.\u001b[39;49m\u001b[43mand_\u001b[49m\u001b[43m(\u001b[49m\u001b[43mright\u001b[49m\u001b[43m,\u001b[49m\u001b[43m \u001b[49m\u001b[43mleft\u001b[49m\u001b[43m)\u001b[49m\n",
      "\u001b[1;31mTypeError\u001b[0m: unsupported operand type(s) for &: 'str' and 'str'",
      "\nDuring handling of the above exception, another exception occurred:\n",
      "\u001b[1;31mTypeError\u001b[0m                                 Traceback (most recent call last)",
      "File \u001b[1;32m~\\miniconda3\\envs\\stats\\lib\\site-packages\\pandas\\core\\ops\\array_ops.py:319\u001b[0m, in \u001b[0;36mna_logical_op\u001b[1;34m(x, y, op)\u001b[0m\n\u001b[0;32m    318\u001b[0m \u001b[38;5;28;01mtry\u001b[39;00m:\n\u001b[1;32m--> 319\u001b[0m     result \u001b[38;5;241m=\u001b[39m \u001b[43mlibops\u001b[49m\u001b[38;5;241;43m.\u001b[39;49m\u001b[43mscalar_binop\u001b[49m\u001b[43m(\u001b[49m\u001b[43mx\u001b[49m\u001b[43m,\u001b[49m\u001b[43m \u001b[49m\u001b[43my\u001b[49m\u001b[43m,\u001b[49m\u001b[43m \u001b[49m\u001b[43mop\u001b[49m\u001b[43m)\u001b[49m\n\u001b[0;32m    320\u001b[0m \u001b[38;5;28;01mexcept\u001b[39;00m (\n\u001b[0;32m    321\u001b[0m     \u001b[38;5;167;01mTypeError\u001b[39;00m,\n\u001b[0;32m    322\u001b[0m     \u001b[38;5;167;01mValueError\u001b[39;00m,\n\u001b[1;32m   (...)\u001b[0m\n\u001b[0;32m    325\u001b[0m     \u001b[38;5;167;01mNotImplementedError\u001b[39;00m,\n\u001b[0;32m    326\u001b[0m ) \u001b[38;5;28;01mas\u001b[39;00m err:\n",
      "File \u001b[1;32m~\\miniconda3\\envs\\stats\\lib\\site-packages\\pandas\\_libs\\ops.pyx:210\u001b[0m, in \u001b[0;36mpandas._libs.ops.scalar_binop\u001b[1;34m()\u001b[0m\n",
      "File \u001b[1;32m~\\miniconda3\\envs\\stats\\lib\\site-packages\\pandas\\core\\roperator.py:54\u001b[0m, in \u001b[0;36mrand_\u001b[1;34m(left, right)\u001b[0m\n\u001b[0;32m     53\u001b[0m \u001b[38;5;28;01mdef\u001b[39;00m \u001b[38;5;21mrand_\u001b[39m(left, right):\n\u001b[1;32m---> 54\u001b[0m     \u001b[38;5;28;01mreturn\u001b[39;00m \u001b[43moperator\u001b[49m\u001b[38;5;241;43m.\u001b[39;49m\u001b[43mand_\u001b[49m\u001b[43m(\u001b[49m\u001b[43mright\u001b[49m\u001b[43m,\u001b[49m\u001b[43m \u001b[49m\u001b[43mleft\u001b[49m\u001b[43m)\u001b[49m\n",
      "\u001b[1;31mTypeError\u001b[0m: unsupported operand type(s) for &: 'bool' and 'str'",
      "\nThe above exception was the direct cause of the following exception:\n",
      "\u001b[1;31mTypeError\u001b[0m                                 Traceback (most recent call last)",
      "Cell \u001b[1;32mIn [3], line 1\u001b[0m\n\u001b[1;32m----> 1\u001b[0m characters_df\u001b[38;5;241m.\u001b[39mloc[characters_df[\u001b[38;5;124m'\u001b[39m\u001b[38;5;124mrace\u001b[39m\u001b[38;5;124m'\u001b[39m] \u001b[38;5;241m==\u001b[39m \u001b[38;5;124;43m'\u001b[39;49m\u001b[38;5;124;43mMen\u001b[39;49m\u001b[38;5;124;43m'\u001b[39;49m\u001b[43m \u001b[49m\u001b[38;5;241;43m&\u001b[39;49m\u001b[43m \u001b[49m\u001b[43mcharacters_df\u001b[49m\u001b[43m[\u001b[49m\u001b[38;5;124;43m'\u001b[39;49m\u001b[38;5;124;43mgender\u001b[39;49m\u001b[38;5;124;43m'\u001b[39;49m\u001b[43m]\u001b[49m \u001b[38;5;241m==\u001b[39m \u001b[38;5;124m'\u001b[39m\u001b[38;5;124mFemale\u001b[39m\u001b[38;5;124m'\u001b[39m]\n",
      "File \u001b[1;32m~\\miniconda3\\envs\\stats\\lib\\site-packages\\pandas\\core\\ops\\common.py:72\u001b[0m, in \u001b[0;36m_unpack_zerodim_and_defer.<locals>.new_method\u001b[1;34m(self, other)\u001b[0m\n\u001b[0;32m     68\u001b[0m             \u001b[38;5;28;01mreturn\u001b[39;00m \u001b[38;5;28mNotImplemented\u001b[39m\n\u001b[0;32m     70\u001b[0m other \u001b[38;5;241m=\u001b[39m item_from_zerodim(other)\n\u001b[1;32m---> 72\u001b[0m \u001b[38;5;28;01mreturn\u001b[39;00m \u001b[43mmethod\u001b[49m\u001b[43m(\u001b[49m\u001b[38;5;28;43mself\u001b[39;49m\u001b[43m,\u001b[49m\u001b[43m \u001b[49m\u001b[43mother\u001b[49m\u001b[43m)\u001b[49m\n",
      "File \u001b[1;32m~\\miniconda3\\envs\\stats\\lib\\site-packages\\pandas\\core\\arraylike.py:76\u001b[0m, in \u001b[0;36mOpsMixin.__rand__\u001b[1;34m(self, other)\u001b[0m\n\u001b[0;32m     74\u001b[0m \u001b[38;5;129m@unpack_zerodim_and_defer\u001b[39m(\u001b[38;5;124m\"\u001b[39m\u001b[38;5;124m__rand__\u001b[39m\u001b[38;5;124m\"\u001b[39m)\n\u001b[0;32m     75\u001b[0m \u001b[38;5;28;01mdef\u001b[39;00m \u001b[38;5;21m__rand__\u001b[39m(\u001b[38;5;28mself\u001b[39m, other):\n\u001b[1;32m---> 76\u001b[0m     \u001b[38;5;28;01mreturn\u001b[39;00m \u001b[38;5;28;43mself\u001b[39;49m\u001b[38;5;241;43m.\u001b[39;49m\u001b[43m_logical_method\u001b[49m\u001b[43m(\u001b[49m\u001b[43mother\u001b[49m\u001b[43m,\u001b[49m\u001b[43m \u001b[49m\u001b[43mroperator\u001b[49m\u001b[38;5;241;43m.\u001b[39;49m\u001b[43mrand_\u001b[49m\u001b[43m)\u001b[49m\n",
      "File \u001b[1;32m~\\miniconda3\\envs\\stats\\lib\\site-packages\\pandas\\core\\series.py:6254\u001b[0m, in \u001b[0;36mSeries._logical_method\u001b[1;34m(self, other, op)\u001b[0m\n\u001b[0;32m   6251\u001b[0m lvalues \u001b[38;5;241m=\u001b[39m \u001b[38;5;28mself\u001b[39m\u001b[38;5;241m.\u001b[39m_values\n\u001b[0;32m   6252\u001b[0m rvalues \u001b[38;5;241m=\u001b[39m extract_array(other, extract_numpy\u001b[38;5;241m=\u001b[39m\u001b[38;5;28;01mTrue\u001b[39;00m, extract_range\u001b[38;5;241m=\u001b[39m\u001b[38;5;28;01mTrue\u001b[39;00m)\n\u001b[1;32m-> 6254\u001b[0m res_values \u001b[38;5;241m=\u001b[39m \u001b[43mops\u001b[49m\u001b[38;5;241;43m.\u001b[39;49m\u001b[43mlogical_op\u001b[49m\u001b[43m(\u001b[49m\u001b[43mlvalues\u001b[49m\u001b[43m,\u001b[49m\u001b[43m \u001b[49m\u001b[43mrvalues\u001b[49m\u001b[43m,\u001b[49m\u001b[43m \u001b[49m\u001b[43mop\u001b[49m\u001b[43m)\u001b[49m\n\u001b[0;32m   6255\u001b[0m \u001b[38;5;28;01mreturn\u001b[39;00m \u001b[38;5;28mself\u001b[39m\u001b[38;5;241m.\u001b[39m_construct_result(res_values, name\u001b[38;5;241m=\u001b[39mres_name)\n",
      "File \u001b[1;32m~\\miniconda3\\envs\\stats\\lib\\site-packages\\pandas\\core\\ops\\array_ops.py:395\u001b[0m, in \u001b[0;36mlogical_op\u001b[1;34m(left, right, op)\u001b[0m\n\u001b[0;32m    391\u001b[0m \u001b[38;5;66;03m# For int vs int `^`, `|`, `&` are bitwise operators and return\u001b[39;00m\n\u001b[0;32m    392\u001b[0m \u001b[38;5;66;03m#   integer dtypes.  Otherwise these are boolean ops\u001b[39;00m\n\u001b[0;32m    393\u001b[0m filler \u001b[38;5;241m=\u001b[39m fill_int \u001b[38;5;28;01mif\u001b[39;00m is_self_int_dtype \u001b[38;5;129;01mand\u001b[39;00m is_other_int_dtype \u001b[38;5;28;01melse\u001b[39;00m fill_bool\n\u001b[1;32m--> 395\u001b[0m res_values \u001b[38;5;241m=\u001b[39m \u001b[43mna_logical_op\u001b[49m\u001b[43m(\u001b[49m\u001b[43mlvalues\u001b[49m\u001b[43m,\u001b[49m\u001b[43m \u001b[49m\u001b[43mrvalues\u001b[49m\u001b[43m,\u001b[49m\u001b[43m \u001b[49m\u001b[43mop\u001b[49m\u001b[43m)\u001b[49m\n\u001b[0;32m    396\u001b[0m \u001b[38;5;66;03m# error: Cannot call function of unknown type\u001b[39;00m\n\u001b[0;32m    397\u001b[0m res_values \u001b[38;5;241m=\u001b[39m filler(res_values)  \u001b[38;5;66;03m# type: ignore[operator]\u001b[39;00m\n",
      "File \u001b[1;32m~\\miniconda3\\envs\\stats\\lib\\site-packages\\pandas\\core\\ops\\array_ops.py:328\u001b[0m, in \u001b[0;36mna_logical_op\u001b[1;34m(x, y, op)\u001b[0m\n\u001b[0;32m    320\u001b[0m         \u001b[38;5;28;01mexcept\u001b[39;00m (\n\u001b[0;32m    321\u001b[0m             \u001b[38;5;167;01mTypeError\u001b[39;00m,\n\u001b[0;32m    322\u001b[0m             \u001b[38;5;167;01mValueError\u001b[39;00m,\n\u001b[1;32m   (...)\u001b[0m\n\u001b[0;32m    325\u001b[0m             \u001b[38;5;167;01mNotImplementedError\u001b[39;00m,\n\u001b[0;32m    326\u001b[0m         ) \u001b[38;5;28;01mas\u001b[39;00m err:\n\u001b[0;32m    327\u001b[0m             typ \u001b[38;5;241m=\u001b[39m \u001b[38;5;28mtype\u001b[39m(y)\u001b[38;5;241m.\u001b[39m\u001b[38;5;18m__name__\u001b[39m\n\u001b[1;32m--> 328\u001b[0m             \u001b[38;5;28;01mraise\u001b[39;00m \u001b[38;5;167;01mTypeError\u001b[39;00m(\n\u001b[0;32m    329\u001b[0m                 \u001b[38;5;124mf\u001b[39m\u001b[38;5;124m\"\u001b[39m\u001b[38;5;124mCannot perform \u001b[39m\u001b[38;5;124m'\u001b[39m\u001b[38;5;132;01m{\u001b[39;00mop\u001b[38;5;241m.\u001b[39m\u001b[38;5;18m__name__\u001b[39m\u001b[38;5;132;01m}\u001b[39;00m\u001b[38;5;124m'\u001b[39m\u001b[38;5;124m with a dtyped [\u001b[39m\u001b[38;5;132;01m{\u001b[39;00mx\u001b[38;5;241m.\u001b[39mdtype\u001b[38;5;132;01m}\u001b[39;00m\u001b[38;5;124m] array \u001b[39m\u001b[38;5;124m\"\u001b[39m\n\u001b[0;32m    330\u001b[0m                 \u001b[38;5;124mf\u001b[39m\u001b[38;5;124m\"\u001b[39m\u001b[38;5;124mand scalar of type [\u001b[39m\u001b[38;5;132;01m{\u001b[39;00mtyp\u001b[38;5;132;01m}\u001b[39;00m\u001b[38;5;124m]\u001b[39m\u001b[38;5;124m\"\u001b[39m\n\u001b[0;32m    331\u001b[0m             ) \u001b[38;5;28;01mfrom\u001b[39;00m \u001b[38;5;21;01merr\u001b[39;00m\n\u001b[0;32m    333\u001b[0m \u001b[38;5;28;01mreturn\u001b[39;00m result\u001b[38;5;241m.\u001b[39mreshape(x\u001b[38;5;241m.\u001b[39mshape)\n",
      "\u001b[1;31mTypeError\u001b[0m: Cannot perform 'rand_' with a dtyped [object] array and scalar of type [bool]"
     ]
    }
   ],
   "source": [
    "characters_df.loc[characters_df['race'] == 'Men' & characters_df['gender'] == 'Female']"
   ]
  }
 ],
 "metadata": {
  "kernelspec": {
   "display_name": "Python 3 (ipykernel)",
   "language": "python",
   "name": "python3"
  },
  "language_info": {
   "codemirror_mode": {
    "name": "ipython",
    "version": 3
   },
   "file_extension": ".py",
   "mimetype": "text/x-python",
   "name": "python",
   "nbconvert_exporter": "python",
   "pygments_lexer": "ipython3",
   "version": "3.9.15"
  }
 },
 "nbformat": 4,
 "nbformat_minor": 5
}
